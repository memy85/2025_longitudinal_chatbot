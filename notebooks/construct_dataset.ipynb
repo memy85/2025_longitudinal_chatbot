{
 "cells": [
  {
   "cell_type": "code",
   "execution_count": 2,
   "id": "2f9541f0",
   "metadata": {},
   "outputs": [],
   "source": [
    "# construct patient profile\n",
    "import pandas as pd\n",
    "from utils import *\n",
    "\n",
    "DATA_PATH = PROJECT_PATH.joinpath(\"data/processed\")"
   ]
  },
  {
   "cell_type": "code",
   "execution_count": 4,
   "id": "a02c7105",
   "metadata": {},
   "outputs": [],
   "source": [
    "# load dataset\n",
    "\n",
    "df = pd.read_json(DATA_PATH.joinpath(\"mimic_notes.json\"), lines=True, orient=\"records\")"
   ]
  },
  {
   "cell_type": "code",
   "execution_count": 5,
   "id": "39ba60d4",
   "metadata": {},
   "outputs": [],
   "source": [
    "# define readability\n",
    "# This is going to be defined from FKGL\n",
    "\n",
    "grade_level = [('elementary', 4), ('middle school', 7), ('high school', 10), ('college', 13), ('graduate', 16)]"
   ]
  }
 ],
 "metadata": {
  "kernelspec": {
   "display_name": "2025_longitudinal_chatbot",
   "language": "python",
   "name": "python3"
  },
  "language_info": {
   "codemirror_mode": {
    "name": "ipython",
    "version": 3
   },
   "file_extension": ".py",
   "mimetype": "text/x-python",
   "name": "python",
   "nbconvert_exporter": "python",
   "pygments_lexer": "ipython3",
   "version": "3.12.3"
  }
 },
 "nbformat": 4,
 "nbformat_minor": 5
}
